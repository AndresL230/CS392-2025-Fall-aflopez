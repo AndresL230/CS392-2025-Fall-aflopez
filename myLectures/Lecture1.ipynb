{
 "cells": [
  {
   "cell_type": "markdown",
   "id": "6b7583da",
   "metadata": {},
   "source": [
    "#### Type-Checking\n",
    "\n",
    "1. Usual stuff done by JavaC\n",
    "2. Array bounds checking; How to tell if 'i' is within the bounds of A?\n",
    "3. How to tell if object is not null?\n",
    "Big O-Notation\n",
    "Little o-Notation\n",
    "\n",
    "Examples:\n",
    "\n",
    "- n is used for input size\n",
    "\n",
    "Log Time: O(logn); Ex: Binary Search\n",
    "\n",
    "Log-Linear Time: O(n*logn)\n",
    "\n",
    "Constant Time: Finished in constant time K || O(1)\n",
    "\n",
    "Linear Time: Execution time bonded by K*n || O(n)\n",
    "\n",
    "Quadratic Time: K*n^2 || O(n^2)\n",
    "\n",
    "Cubic Time: K*n^3 || O(n^3)\n",
    "\n"
   ]
  },
  {
   "cell_type": "code",
   "execution_count": 13,
   "id": "f4a7dbca",
   "metadata": {},
   "outputs": [
    {
     "name": "stdout",
     "output_type": "stream",
     "text": [
      "1\n",
      "1\n",
      "2\n",
      "6\n",
      "24\n",
      "120\n",
      "720\n",
      "5040\n",
      "40320\n",
      "362880\n"
     ]
    }
   ],
   "source": [
    "def factorial(n):\n",
    "    if n>=1:\n",
    "        return n * factorial(n-1)\n",
    "    else:\n",
    "        return 1\n",
    "    \n",
    "for i in range(10):\n",
    "    print(factorial(i)) \n"
   ]
  },
  {
   "cell_type": "markdown",
   "id": "d5118495",
   "metadata": {},
   "source": [
    "Tail Recursive Call"
   ]
  },
  {
   "cell_type": "code",
   "execution_count": 14,
   "id": "a5a059ec",
   "metadata": {},
   "outputs": [],
   "source": [
    "def fact(n):\n",
    "    def loop(i, res):\n",
    "        if i <= n:\n",
    "            return loop(i+1, i*res)\n",
    "        else:\n",
    "            return res\n",
    "    return loop(1,1)"
   ]
  },
  {
   "cell_type": "markdown",
   "id": "16202f2f",
   "metadata": {},
   "source": [
    "While-Loop Based"
   ]
  },
  {
   "cell_type": "code",
   "execution_count": 17,
   "id": "73788b5e",
   "metadata": {},
   "outputs": [
    {
     "data": {
      "text/plain": [
       "24"
      ]
     },
     "execution_count": 17,
     "metadata": {},
     "output_type": "execute_result"
    }
   ],
   "source": [
    "def fact(n):\n",
    "    if n == 0:\n",
    "        return 1\n",
    "    else:\n",
    "        factorial = 1\n",
    "        i = 1\n",
    "        while i <= n:\n",
    "            factorial *= i\n",
    "            i += 1\n",
    "        return factorial\n",
    "\n",
    "fact(4)"
   ]
  }
 ],
 "metadata": {
  "kernelspec": {
   "display_name": "base",
   "language": "python",
   "name": "python3"
  },
  "language_info": {
   "codemirror_mode": {
    "name": "ipython",
    "version": 3
   },
   "file_extension": ".py",
   "mimetype": "text/x-python",
   "name": "python",
   "nbconvert_exporter": "python",
   "pygments_lexer": "ipython3",
   "version": "3.12.7"
  }
 },
 "nbformat": 4,
 "nbformat_minor": 5
}
