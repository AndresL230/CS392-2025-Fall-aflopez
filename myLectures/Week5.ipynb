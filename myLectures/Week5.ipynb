{
 "cells": [
  {
   "cell_type": "markdown",
   "id": "31a26757",
   "metadata": {},
   "source": [
    "## Number Sorting vs. Object Sorting\n",
    "- Sorting\n",
    "- Algorithm Analysis\n",
    "\n",
    "Object Sorting\n",
    "\n",
    "### Insertion Sort"
   ]
  },
  {
   "cell_type": "code",
   "execution_count": null,
   "id": "075afe77",
   "metadata": {},
   "outputs": [],
   "source": [
    "instertion_sort(xs)\n",
    "    if null(xs)//list is empty\n",
    "        return xs\n",
    "    else\n",
    "        return insert(hd(xs), instertion_sort(h(xs)))"
   ]
  },
  {
   "cell_type": "markdown",
   "id": "d5a2194f",
   "metadata": {},
   "source": [
    "Say T(n) is the time complexity of insertion_sort(xs), where n=len(xs)"
   ]
  }
 ],
 "metadata": {
  "kernelspec": {
   "display_name": "base",
   "language": "python",
   "name": "python3"
  },
  "language_info": {
   "name": "python",
   "version": "3.12.7"
  }
 },
 "nbformat": 4,
 "nbformat_minor": 5
}
