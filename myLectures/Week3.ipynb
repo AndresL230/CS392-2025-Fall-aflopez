{
 "cells": [
  {
   "cell_type": "markdown",
   "id": "6edc05e7",
   "metadata": {},
   "source": [
    "## Java Library\n",
    "\n",
    "- Parametric Polymorphism (Generics)\n",
    "- Inheritance Polymorphism (class/subclass)\n",
    "\n",
    "1. Stack: Last in First Out Queue\n",
    "2. Queue: First in First Out Queue\n",
    "\n"
   ]
  }
 ],
 "metadata": {
  "language_info": {
   "name": "python"
  }
 },
 "nbformat": 4,
 "nbformat_minor": 5
}
