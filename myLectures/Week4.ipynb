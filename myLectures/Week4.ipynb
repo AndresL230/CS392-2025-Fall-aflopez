{
 "cells": [
  {
   "cell_type": "markdown",
   "id": "06a8d1e4",
   "metadata": {},
   "source": [
    "Summary:\n",
    "\n",
    "\"Basic Java features\"\n",
    "\n",
    "1. Generics (Parametric Polymorphism)\n",
    "2. Inheritance Polymorphism\n",
    "\n",
    "Library MyLibrary\n",
    "\n",
    "3. higher-oder methods\n",
    "4. \"lazy evaluation\""
   ]
  },
  {
   "cell_type": "code",
   "execution_count": 1,
   "id": "79f2ec3c",
   "metadata": {},
   "outputs": [],
   "source": [
    "def floop(xs, action):\n",
    "    for x in xs:\n",
    "        action(x)"
   ]
  },
  {
   "cell_type": "markdown",
   "id": "f8f25771",
   "metadata": {},
   "source": [
    "action: function"
   ]
  }
 ],
 "metadata": {
  "kernelspec": {
   "display_name": "base",
   "language": "python",
   "name": "python3"
  },
  "language_info": {
   "codemirror_mode": {
    "name": "ipython",
    "version": 3
   },
   "file_extension": ".py",
   "mimetype": "text/x-python",
   "name": "python",
   "nbconvert_exporter": "python",
   "pygments_lexer": "ipython3",
   "version": "3.12.7"
  }
 },
 "nbformat": 4,
 "nbformat_minor": 5
}
